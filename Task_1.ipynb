{
 "cells": [
  {
   "cell_type": "markdown",
   "metadata": {},
   "source": [
    "## Task 1"
   ]
  },
  {
   "cell_type": "markdown",
   "metadata": {},
   "source": [
    "The general approach taken for task 1 is as follows.\n",
    "\n",
    "1) We process the images using the pre-trained Vision Transformer (vit-base-patch16-224-in21k) and save the extracted features.\n",
    "2) Post this we use simple LwP using cosine similarity as the distance metric to make classifications.\n",
    "3) Then we make the updates using a confidence based approach wherein the prototypes are updated by a running weighted average of current prototype and new computed means, weighted by cosine-similarity based confidence."
   ]
  },
  {
   "cell_type": "code",
   "execution_count": 1,
   "metadata": {},
   "outputs": [
    {
     "name": "stderr",
     "output_type": "stream",
     "text": [
      "c:\\Users\\AADI RACIST\\.conda\\envs\\771_env\\Lib\\site-packages\\tqdm\\auto.py:21: TqdmWarning: IProgress not found. Please update jupyter and ipywidgets. See https://ipywidgets.readthedocs.io/en/stable/user_install.html\n",
      "  from .autonotebook import tqdm as notebook_tqdm\n"
     ]
    }
   ],
   "source": [
    "import torch\n",
    "from torchvision import transforms\n",
    "from transformers import ViTModel, ViTFeatureExtractor\n",
    "from PIL import Image\n",
    "import os\n",
    "import numpy as np\n",
    "import torch.nn as nn\n",
    "import torch.optim as optim\n",
    "from sklearn.model_selection import train_test_split\n",
    "from sklearn.metrics import accuracy_score\n",
    "import numpy as np\n",
    "from sklearn.metrics.pairwise import cosine_similarity\n",
    "from sklearn.model_selection import train_test_split\n",
    "from sklearn.preprocessing import normalize\n",
    "from sklearn.decomposition import PCA\n",
    "from sklearn.mixture import GaussianMixture\n",
    "from collections import defaultdict"
   ]
  },
  {
   "cell_type": "code",
   "execution_count": 2,
   "metadata": {},
   "outputs": [],
   "source": [
    "# 1. Load the data from the .pth file\n",
    "def load_data(file_path):\n",
    "    # Load the .pth file\n",
    "    t = torch.load(file_path)\n",
    "    \n",
    "    # Extract data and targets (assumes they are numpy arrays)\n",
    "    data, targets = t['data'], t['targets']\n",
    "    \n",
    "    # Convert data to PyTorch tensors if they are numpy arrays\n",
    "    if isinstance(data, np.ndarray):\n",
    "        data = torch.tensor(data)\n",
    "        \n",
    "    if isinstance(targets, np.ndarray):\n",
    "        targets = torch.tensor(targets)\n",
    "    \n",
    "    return data, targets"
   ]
  },
  {
   "cell_type": "code",
   "execution_count": 3,
   "metadata": {},
   "outputs": [],
   "source": [
    "# 4. Extract features from images using ViT\n",
    "def extract_features(model, images, batch_size=32):\n",
    "    features = []\n",
    "    with torch.no_grad():\n",
    "        for i in range(0, len(images), batch_size):\n",
    "            batch = images[i:i+batch_size]\n",
    "            outputs = model(pixel_values=batch).last_hidden_state\n",
    "            features.append(outputs[:, 0, :])\n",
    "    return torch.cat(features)\n"
   ]
  },
  {
   "cell_type": "code",
   "execution_count": 4,
   "metadata": {},
   "outputs": [],
   "source": [
    "# 3. Load the Vision Transformer (ViT) model\n",
    "def load_vit_model():\n",
    "    # Load a pre-trained ViT model (e.g., ViT-B/16)\n",
    "    model = ViTModel.from_pretrained(\"google/vit-base-patch16-224-in21k\")\n",
    "    model.eval()  # Set to evaluation mode\n",
    "    return model"
   ]
  },
  {
   "cell_type": "code",
   "execution_count": 5,
   "metadata": {},
   "outputs": [],
   "source": [
    "# 2. Preprocess the images\n",
    "def preprocess_images(data, image_size=224):\n",
    "    # Define transformations: Resize, Normalize\n",
    "    transform = transforms.Compose([\n",
    "        transforms.Resize((image_size, image_size)),  # Resize to ViT input size\n",
    "        transforms.Normalize(mean=[0.485, 0.456, 0.406], std=[0.229, 0.224, 0.225])  # Normalize using ImageNet stats\n",
    "    ])\n",
    "    \n",
    "    # Apply transformations to the images\n",
    "    # Assumes data has shape (N, H, W, C) and is in range [0, 255] (numpy-like)\n",
    "    data = data.permute(0, 3, 1, 2) / 255.0  # Convert to (N, C, H, W) and normalize to [0, 1]\n",
    "    data = torch.stack([transform(img) for img in data])\n",
    "    \n",
    "    return data"
   ]
  },
  {
   "cell_type": "code",
   "execution_count": 6,
   "metadata": {},
   "outputs": [],
   "source": [
    "# 5. Main function\n",
    "def main(file_path, output_file=\"vit_features.pth\"):\n",
    "    # Step 1: Load the data\n",
    "    data,targets = load_data(file_path)\n",
    "    \n",
    "    # Step 2: Preprocess the data\n",
    "    preprocessed_data = preprocess_images(data)\n",
    "    \n",
    "    # Step 3: Load the ViT model\n",
    "    vit_model = load_vit_model()\n",
    "    \n",
    "    # Step 4: Extract features\n",
    "    features = extract_features(vit_model, preprocessed_data)\n",
    "    \n",
    "    # Step 5: Save the features and targets\n",
    "    torch.save({'features': features, 'targets': targets}, output_file)\n"
   ]
  },
  {
   "cell_type": "code",
   "execution_count": null,
   "metadata": {},
   "outputs": [],
   "source": [
    "for i in range(1,21):\n",
    "    file_path = f'dataset/part_one_dataset/train_data/{i}_train_data.tar.pth'\n",
    "    main(file_path, output_file=f\"ExtractedFeatures/vit_features_train_{i}.pth\")\n",
    "    file_path = f'dataset/part_one_dataset/eval_data/{i}_eval_data.tar.pth'  \n",
    "    main(file_path, output_file=f\"ExtractedFeatures/vit_features_eval_{i}.pth\")"
   ]
  },
  {
   "cell_type": "markdown",
   "metadata": {},
   "source": [
    "We can now load the pre-made features for task 1 and task 2."
   ]
  },
  {
   "cell_type": "code",
   "execution_count": null,
   "metadata": {},
   "outputs": [
    {
     "name": "stderr",
     "output_type": "stream",
     "text": [
      "C:\\Users\\AADI RACIST\\AppData\\Local\\Temp\\ipykernel_9480\\1335921280.py:2: FutureWarning: You are using `torch.load` with `weights_only=False` (the current default value), which uses the default pickle module implicitly. It is possible to construct malicious pickle data which will execute arbitrary code during unpickling (See https://github.com/pytorch/pytorch/blob/main/SECURITY.md#untrusted-models for more details). In a future release, the default value for `weights_only` will be flipped to `True`. This limits the functions that could be executed during unpickling. Arbitrary objects will no longer be allowed to be loaded via this mode unless they are explicitly allowlisted by the user via `torch.serialization.add_safe_globals`. We recommend you start setting `weights_only=True` for any use case where you don't have full control of the loaded file. Please open an issue on GitHub for any issues related to this experimental feature.\n",
      "  data = torch.load(\"ExtractedFeatures/ExtractedFeatures/vit_features_train_1.pth\")\n",
      "C:\\Users\\AADI RACIST\\AppData\\Local\\Temp\\ipykernel_9480\\1335921280.py:8: FutureWarning: You are using `torch.load` with `weights_only=False` (the current default value), which uses the default pickle module implicitly. It is possible to construct malicious pickle data which will execute arbitrary code during unpickling (See https://github.com/pytorch/pytorch/blob/main/SECURITY.md#untrusted-models for more details). In a future release, the default value for `weights_only` will be flipped to `True`. This limits the functions that could be executed during unpickling. Arbitrary objects will no longer be allowed to be loaded via this mode unless they are explicitly allowlisted by the user via `torch.serialization.add_safe_globals`. We recommend you start setting `weights_only=True` for any use case where you don't have full control of the loaded file. Please open an issue on GitHub for any issues related to this experimental feature.\n",
      "  data = torch.load(\"ExtractedFeatures/ExtractedFeatures/vit_features_eval_1.pth\")\n"
     ]
    }
   ],
   "source": [
    "# Train Data\n",
    "data = torch.load(\"ExtractedFeatures/vit_features_train_1.pth\")\n",
    "features, targets = data['features'], data['targets']\n",
    "X_train = normalize(features, axis=1)\n",
    "Y_train = targets\n",
    "\n",
    "# Eval Models\n",
    "data = torch.load(\"ExtractedFeatures/vit_features_eval_1.pth\")\n",
    "features, targets = data['features'], data['targets']\n",
    "X_test = normalize(features, axis=1)\n",
    "Y_test = targets\n",
    "\n",
    "# Number of classes in CIFAR-10\n",
    "num_classes = 10"
   ]
  },
  {
   "cell_type": "code",
   "execution_count": 9,
   "metadata": {},
   "outputs": [],
   "source": [
    "# Compute class prototypes (mean feature vector for each class)\n",
    "prototypes = np.zeros((num_classes, X_train.shape[1]))\n",
    "sizes = np.zeros(num_classes)\n",
    "for cls in range(num_classes):\n",
    "    class_features = X_train[Y_train == cls]\n",
    "    prototypes[cls] = np.mean(class_features, axis=0)\n",
    "    sizes[cls] = len(class_features)\n",
    "# Normalize prototypes for cosine similarity\n",
    "prototypes = normalize(prototypes, axis=1)\n"
   ]
  },
  {
   "cell_type": "markdown",
   "metadata": {},
   "source": [
    "At each step we save cosine similarity with the closest mean to see how confident we are that this point belongs to this label."
   ]
  },
  {
   "cell_type": "code",
   "execution_count": 10,
   "metadata": {},
   "outputs": [],
   "source": [
    "# Classification function\n",
    "def classify(sample, prototypes):\n",
    "    similarities = cosine_similarity(sample.reshape(1, -1), prototypes)\n",
    "    confidence = np.max(similarities)  # Confidence based on maximum similarity\n",
    "    return np.argmax(similarities) , confidence"
   ]
  },
  {
   "cell_type": "code",
   "execution_count": 11,
   "metadata": {},
   "outputs": [],
   "source": [
    "# Evaluate the model\n",
    "accuracies = []\n",
    "correct_predictions = 0\n",
    "for i in range(len(X_test)):\n",
    "    prediction,_ = classify(X_test[i], prototypes)\n",
    "    if prediction == Y_test[i]:\n",
    "        correct_predictions += 1\n",
    "\n",
    "accuracy = correct_predictions / len(X_test)\n",
    "accuracies.append(accuracy)"
   ]
  },
  {
   "cell_type": "code",
   "execution_count": 12,
   "metadata": {},
   "outputs": [],
   "source": [
    "all_accuracies = []\n",
    "all_accuracies.append(accuracies)"
   ]
  },
  {
   "cell_type": "markdown",
   "metadata": {},
   "source": [
    "Now we take a weighted average to update the means. This ensures that wrong predictions are devalued while updating the means."
   ]
  },
  {
   "cell_type": "code",
   "execution_count": 13,
   "metadata": {},
   "outputs": [],
   "source": [
    "def update_prototype(data_new , prototypes, sizes):\n",
    "    X_train = normalize(data_new['features'], axis=1)\n",
    "    preds = np.zeros(len(X_train))\n",
    "    confidences = np.zeros(len(X_train))\n",
    "\n",
    "    # Classify each sample and compute confidence\n",
    "    for i in range(len(X_train)):\n",
    "        preds[i], confidences[i] = classify(X_train[i], prototypes)\n",
    "\n",
    "    # Update prototypes with weighted contributions\n",
    "    for cls in range(num_classes):\n",
    "        class_indices = np.where(preds == cls)[0]\n",
    "        if len(class_indices) > 0:\n",
    "            class_features = X_train[class_indices]\n",
    "            class_confidences = confidences[class_indices].reshape(-1, 1)  # Reshape for broadcasting\n",
    "\n",
    "            # Weighted sum of features\n",
    "            weighted_sum = np.sum(class_features * class_confidences, axis=0)\n",
    "            weighted_count = np.sum(class_confidences)  # Total confidence as a weight sum\n",
    "\n",
    "            # Update the prototype\n",
    "            prototypes[cls] = (\n",
    "                prototypes[cls] * sizes[cls] + weighted_sum\n",
    "            ) / (sizes[cls] + weighted_count)\n",
    "            sizes[cls] += weighted_count  # Update size with the sum of confidences\n",
    "\n",
    "    # Normalize prototypes for cosine similarity\n",
    "    prototypes = normalize(prototypes, axis=1)\n",
    "    return prototypes, sizes"
   ]
  },
  {
   "cell_type": "code",
   "execution_count": null,
   "metadata": {},
   "outputs": [],
   "source": [
    "def holdout_accuracy(i , prototypes):\n",
    "    accuracies = []\n",
    "    for j in range(1,i+1):\n",
    "        data = torch.load(f\"ExtractedFeatures/vit_features_eval_{j}.pth\")\n",
    "        features, targets = data['features'], data['targets']\n",
    "        X_test = normalize(features, axis=1)\n",
    "        Y_test = targets\n",
    "        correct_predictions = 0\n",
    "        for i in range(len(X_test)):\n",
    "            prediction, _= classify(X_test[i], prototypes)\n",
    "            if prediction == Y_test[i]:\n",
    "                correct_predictions += 1\n",
    "\n",
    "        accuracy = correct_predictions / len(X_test)\n",
    "        accuracies.append(accuracy)\n",
    "    return accuracies"
   ]
  },
  {
   "cell_type": "code",
   "execution_count": null,
   "metadata": {},
   "outputs": [
    {
     "name": "stderr",
     "output_type": "stream",
     "text": [
      "C:\\Users\\AADI RACIST\\AppData\\Local\\Temp\\ipykernel_9480\\1534749086.py:2: FutureWarning: You are using `torch.load` with `weights_only=False` (the current default value), which uses the default pickle module implicitly. It is possible to construct malicious pickle data which will execute arbitrary code during unpickling (See https://github.com/pytorch/pytorch/blob/main/SECURITY.md#untrusted-models for more details). In a future release, the default value for `weights_only` will be flipped to `True`. This limits the functions that could be executed during unpickling. Arbitrary objects will no longer be allowed to be loaded via this mode unless they are explicitly allowlisted by the user via `torch.serialization.add_safe_globals`. We recommend you start setting `weights_only=True` for any use case where you don't have full control of the loaded file. Please open an issue on GitHub for any issues related to this experimental feature.\n",
      "  data = torch.load(f\"ExtractedFeatures/ExtractedFeatures/vit_features_train_{i}.pth\")\n",
      "C:\\Users\\AADI RACIST\\AppData\\Local\\Temp\\ipykernel_9480\\173164225.py:4: FutureWarning: You are using `torch.load` with `weights_only=False` (the current default value), which uses the default pickle module implicitly. It is possible to construct malicious pickle data which will execute arbitrary code during unpickling (See https://github.com/pytorch/pytorch/blob/main/SECURITY.md#untrusted-models for more details). In a future release, the default value for `weights_only` will be flipped to `True`. This limits the functions that could be executed during unpickling. Arbitrary objects will no longer be allowed to be loaded via this mode unless they are explicitly allowlisted by the user via `torch.serialization.add_safe_globals`. We recommend you start setting `weights_only=True` for any use case where you don't have full control of the loaded file. Please open an issue on GitHub for any issues related to this experimental feature.\n",
      "  data = torch.load(f\"ExtractedFeatures/ExtractedFeatures/vit_features_eval_{j}.pth\")\n",
      "C:\\Users\\AADI RACIST\\AppData\\Local\\Temp\\ipykernel_9480\\173164225.py:4: FutureWarning: You are using `torch.load` with `weights_only=False` (the current default value), which uses the default pickle module implicitly. It is possible to construct malicious pickle data which will execute arbitrary code during unpickling (See https://github.com/pytorch/pytorch/blob/main/SECURITY.md#untrusted-models for more details). In a future release, the default value for `weights_only` will be flipped to `True`. This limits the functions that could be executed during unpickling. Arbitrary objects will no longer be allowed to be loaded via this mode unless they are explicitly allowlisted by the user via `torch.serialization.add_safe_globals`. We recommend you start setting `weights_only=True` for any use case where you don't have full control of the loaded file. Please open an issue on GitHub for any issues related to this experimental feature.\n",
      "  data = torch.load(f\"ExtractedFeatures/ExtractedFeatures/vit_features_eval_{j}.pth\")\n",
      "C:\\Users\\AADI RACIST\\AppData\\Local\\Temp\\ipykernel_9480\\1534749086.py:2: FutureWarning: You are using `torch.load` with `weights_only=False` (the current default value), which uses the default pickle module implicitly. It is possible to construct malicious pickle data which will execute arbitrary code during unpickling (See https://github.com/pytorch/pytorch/blob/main/SECURITY.md#untrusted-models for more details). In a future release, the default value for `weights_only` will be flipped to `True`. This limits the functions that could be executed during unpickling. Arbitrary objects will no longer be allowed to be loaded via this mode unless they are explicitly allowlisted by the user via `torch.serialization.add_safe_globals`. We recommend you start setting `weights_only=True` for any use case where you don't have full control of the loaded file. Please open an issue on GitHub for any issues related to this experimental feature.\n",
      "  data = torch.load(f\"ExtractedFeatures/ExtractedFeatures/vit_features_train_{i}.pth\")\n",
      "C:\\Users\\AADI RACIST\\AppData\\Local\\Temp\\ipykernel_9480\\173164225.py:4: FutureWarning: You are using `torch.load` with `weights_only=False` (the current default value), which uses the default pickle module implicitly. It is possible to construct malicious pickle data which will execute arbitrary code during unpickling (See https://github.com/pytorch/pytorch/blob/main/SECURITY.md#untrusted-models for more details). In a future release, the default value for `weights_only` will be flipped to `True`. This limits the functions that could be executed during unpickling. Arbitrary objects will no longer be allowed to be loaded via this mode unless they are explicitly allowlisted by the user via `torch.serialization.add_safe_globals`. We recommend you start setting `weights_only=True` for any use case where you don't have full control of the loaded file. Please open an issue on GitHub for any issues related to this experimental feature.\n",
      "  data = torch.load(f\"ExtractedFeatures/ExtractedFeatures/vit_features_eval_{j}.pth\")\n",
      "C:\\Users\\AADI RACIST\\AppData\\Local\\Temp\\ipykernel_9480\\173164225.py:4: FutureWarning: You are using `torch.load` with `weights_only=False` (the current default value), which uses the default pickle module implicitly. It is possible to construct malicious pickle data which will execute arbitrary code during unpickling (See https://github.com/pytorch/pytorch/blob/main/SECURITY.md#untrusted-models for more details). In a future release, the default value for `weights_only` will be flipped to `True`. This limits the functions that could be executed during unpickling. Arbitrary objects will no longer be allowed to be loaded via this mode unless they are explicitly allowlisted by the user via `torch.serialization.add_safe_globals`. We recommend you start setting `weights_only=True` for any use case where you don't have full control of the loaded file. Please open an issue on GitHub for any issues related to this experimental feature.\n",
      "  data = torch.load(f\"ExtractedFeatures/ExtractedFeatures/vit_features_eval_{j}.pth\")\n",
      "C:\\Users\\AADI RACIST\\AppData\\Local\\Temp\\ipykernel_9480\\173164225.py:4: FutureWarning: You are using `torch.load` with `weights_only=False` (the current default value), which uses the default pickle module implicitly. It is possible to construct malicious pickle data which will execute arbitrary code during unpickling (See https://github.com/pytorch/pytorch/blob/main/SECURITY.md#untrusted-models for more details). In a future release, the default value for `weights_only` will be flipped to `True`. This limits the functions that could be executed during unpickling. Arbitrary objects will no longer be allowed to be loaded via this mode unless they are explicitly allowlisted by the user via `torch.serialization.add_safe_globals`. We recommend you start setting `weights_only=True` for any use case where you don't have full control of the loaded file. Please open an issue on GitHub for any issues related to this experimental feature.\n",
      "  data = torch.load(f\"ExtractedFeatures/ExtractedFeatures/vit_features_eval_{j}.pth\")\n",
      "C:\\Users\\AADI RACIST\\AppData\\Local\\Temp\\ipykernel_9480\\1534749086.py:2: FutureWarning: You are using `torch.load` with `weights_only=False` (the current default value), which uses the default pickle module implicitly. It is possible to construct malicious pickle data which will execute arbitrary code during unpickling (See https://github.com/pytorch/pytorch/blob/main/SECURITY.md#untrusted-models for more details). In a future release, the default value for `weights_only` will be flipped to `True`. This limits the functions that could be executed during unpickling. Arbitrary objects will no longer be allowed to be loaded via this mode unless they are explicitly allowlisted by the user via `torch.serialization.add_safe_globals`. We recommend you start setting `weights_only=True` for any use case where you don't have full control of the loaded file. Please open an issue on GitHub for any issues related to this experimental feature.\n",
      "  data = torch.load(f\"ExtractedFeatures/ExtractedFeatures/vit_features_train_{i}.pth\")\n",
      "C:\\Users\\AADI RACIST\\AppData\\Local\\Temp\\ipykernel_9480\\173164225.py:4: FutureWarning: You are using `torch.load` with `weights_only=False` (the current default value), which uses the default pickle module implicitly. It is possible to construct malicious pickle data which will execute arbitrary code during unpickling (See https://github.com/pytorch/pytorch/blob/main/SECURITY.md#untrusted-models for more details). In a future release, the default value for `weights_only` will be flipped to `True`. This limits the functions that could be executed during unpickling. Arbitrary objects will no longer be allowed to be loaded via this mode unless they are explicitly allowlisted by the user via `torch.serialization.add_safe_globals`. We recommend you start setting `weights_only=True` for any use case where you don't have full control of the loaded file. Please open an issue on GitHub for any issues related to this experimental feature.\n",
      "  data = torch.load(f\"ExtractedFeatures/ExtractedFeatures/vit_features_eval_{j}.pth\")\n",
      "C:\\Users\\AADI RACIST\\AppData\\Local\\Temp\\ipykernel_9480\\173164225.py:4: FutureWarning: You are using `torch.load` with `weights_only=False` (the current default value), which uses the default pickle module implicitly. It is possible to construct malicious pickle data which will execute arbitrary code during unpickling (See https://github.com/pytorch/pytorch/blob/main/SECURITY.md#untrusted-models for more details). In a future release, the default value for `weights_only` will be flipped to `True`. This limits the functions that could be executed during unpickling. Arbitrary objects will no longer be allowed to be loaded via this mode unless they are explicitly allowlisted by the user via `torch.serialization.add_safe_globals`. We recommend you start setting `weights_only=True` for any use case where you don't have full control of the loaded file. Please open an issue on GitHub for any issues related to this experimental feature.\n",
      "  data = torch.load(f\"ExtractedFeatures/ExtractedFeatures/vit_features_eval_{j}.pth\")\n",
      "C:\\Users\\AADI RACIST\\AppData\\Local\\Temp\\ipykernel_9480\\173164225.py:4: FutureWarning: You are using `torch.load` with `weights_only=False` (the current default value), which uses the default pickle module implicitly. It is possible to construct malicious pickle data which will execute arbitrary code during unpickling (See https://github.com/pytorch/pytorch/blob/main/SECURITY.md#untrusted-models for more details). In a future release, the default value for `weights_only` will be flipped to `True`. This limits the functions that could be executed during unpickling. Arbitrary objects will no longer be allowed to be loaded via this mode unless they are explicitly allowlisted by the user via `torch.serialization.add_safe_globals`. We recommend you start setting `weights_only=True` for any use case where you don't have full control of the loaded file. Please open an issue on GitHub for any issues related to this experimental feature.\n",
      "  data = torch.load(f\"ExtractedFeatures/ExtractedFeatures/vit_features_eval_{j}.pth\")\n",
      "C:\\Users\\AADI RACIST\\AppData\\Local\\Temp\\ipykernel_9480\\173164225.py:4: FutureWarning: You are using `torch.load` with `weights_only=False` (the current default value), which uses the default pickle module implicitly. It is possible to construct malicious pickle data which will execute arbitrary code during unpickling (See https://github.com/pytorch/pytorch/blob/main/SECURITY.md#untrusted-models for more details). In a future release, the default value for `weights_only` will be flipped to `True`. This limits the functions that could be executed during unpickling. Arbitrary objects will no longer be allowed to be loaded via this mode unless they are explicitly allowlisted by the user via `torch.serialization.add_safe_globals`. We recommend you start setting `weights_only=True` for any use case where you don't have full control of the loaded file. Please open an issue on GitHub for any issues related to this experimental feature.\n",
      "  data = torch.load(f\"ExtractedFeatures/ExtractedFeatures/vit_features_eval_{j}.pth\")\n",
      "C:\\Users\\AADI RACIST\\AppData\\Local\\Temp\\ipykernel_9480\\1534749086.py:2: FutureWarning: You are using `torch.load` with `weights_only=False` (the current default value), which uses the default pickle module implicitly. It is possible to construct malicious pickle data which will execute arbitrary code during unpickling (See https://github.com/pytorch/pytorch/blob/main/SECURITY.md#untrusted-models for more details). In a future release, the default value for `weights_only` will be flipped to `True`. This limits the functions that could be executed during unpickling. Arbitrary objects will no longer be allowed to be loaded via this mode unless they are explicitly allowlisted by the user via `torch.serialization.add_safe_globals`. We recommend you start setting `weights_only=True` for any use case where you don't have full control of the loaded file. Please open an issue on GitHub for any issues related to this experimental feature.\n",
      "  data = torch.load(f\"ExtractedFeatures/ExtractedFeatures/vit_features_train_{i}.pth\")\n",
      "C:\\Users\\AADI RACIST\\AppData\\Local\\Temp\\ipykernel_9480\\173164225.py:4: FutureWarning: You are using `torch.load` with `weights_only=False` (the current default value), which uses the default pickle module implicitly. It is possible to construct malicious pickle data which will execute arbitrary code during unpickling (See https://github.com/pytorch/pytorch/blob/main/SECURITY.md#untrusted-models for more details). In a future release, the default value for `weights_only` will be flipped to `True`. This limits the functions that could be executed during unpickling. Arbitrary objects will no longer be allowed to be loaded via this mode unless they are explicitly allowlisted by the user via `torch.serialization.add_safe_globals`. We recommend you start setting `weights_only=True` for any use case where you don't have full control of the loaded file. Please open an issue on GitHub for any issues related to this experimental feature.\n",
      "  data = torch.load(f\"ExtractedFeatures/ExtractedFeatures/vit_features_eval_{j}.pth\")\n",
      "C:\\Users\\AADI RACIST\\AppData\\Local\\Temp\\ipykernel_9480\\173164225.py:4: FutureWarning: You are using `torch.load` with `weights_only=False` (the current default value), which uses the default pickle module implicitly. It is possible to construct malicious pickle data which will execute arbitrary code during unpickling (See https://github.com/pytorch/pytorch/blob/main/SECURITY.md#untrusted-models for more details). In a future release, the default value for `weights_only` will be flipped to `True`. This limits the functions that could be executed during unpickling. Arbitrary objects will no longer be allowed to be loaded via this mode unless they are explicitly allowlisted by the user via `torch.serialization.add_safe_globals`. We recommend you start setting `weights_only=True` for any use case where you don't have full control of the loaded file. Please open an issue on GitHub for any issues related to this experimental feature.\n",
      "  data = torch.load(f\"ExtractedFeatures/ExtractedFeatures/vit_features_eval_{j}.pth\")\n",
      "C:\\Users\\AADI RACIST\\AppData\\Local\\Temp\\ipykernel_9480\\173164225.py:4: FutureWarning: You are using `torch.load` with `weights_only=False` (the current default value), which uses the default pickle module implicitly. It is possible to construct malicious pickle data which will execute arbitrary code during unpickling (See https://github.com/pytorch/pytorch/blob/main/SECURITY.md#untrusted-models for more details). In a future release, the default value for `weights_only` will be flipped to `True`. This limits the functions that could be executed during unpickling. Arbitrary objects will no longer be allowed to be loaded via this mode unless they are explicitly allowlisted by the user via `torch.serialization.add_safe_globals`. We recommend you start setting `weights_only=True` for any use case where you don't have full control of the loaded file. Please open an issue on GitHub for any issues related to this experimental feature.\n",
      "  data = torch.load(f\"ExtractedFeatures/ExtractedFeatures/vit_features_eval_{j}.pth\")\n",
      "C:\\Users\\AADI RACIST\\AppData\\Local\\Temp\\ipykernel_9480\\173164225.py:4: FutureWarning: You are using `torch.load` with `weights_only=False` (the current default value), which uses the default pickle module implicitly. It is possible to construct malicious pickle data which will execute arbitrary code during unpickling (See https://github.com/pytorch/pytorch/blob/main/SECURITY.md#untrusted-models for more details). In a future release, the default value for `weights_only` will be flipped to `True`. This limits the functions that could be executed during unpickling. Arbitrary objects will no longer be allowed to be loaded via this mode unless they are explicitly allowlisted by the user via `torch.serialization.add_safe_globals`. We recommend you start setting `weights_only=True` for any use case where you don't have full control of the loaded file. Please open an issue on GitHub for any issues related to this experimental feature.\n",
      "  data = torch.load(f\"ExtractedFeatures/ExtractedFeatures/vit_features_eval_{j}.pth\")\n",
      "C:\\Users\\AADI RACIST\\AppData\\Local\\Temp\\ipykernel_9480\\173164225.py:4: FutureWarning: You are using `torch.load` with `weights_only=False` (the current default value), which uses the default pickle module implicitly. It is possible to construct malicious pickle data which will execute arbitrary code during unpickling (See https://github.com/pytorch/pytorch/blob/main/SECURITY.md#untrusted-models for more details). In a future release, the default value for `weights_only` will be flipped to `True`. This limits the functions that could be executed during unpickling. Arbitrary objects will no longer be allowed to be loaded via this mode unless they are explicitly allowlisted by the user via `torch.serialization.add_safe_globals`. We recommend you start setting `weights_only=True` for any use case where you don't have full control of the loaded file. Please open an issue on GitHub for any issues related to this experimental feature.\n",
      "  data = torch.load(f\"ExtractedFeatures/ExtractedFeatures/vit_features_eval_{j}.pth\")\n",
      "C:\\Users\\AADI RACIST\\AppData\\Local\\Temp\\ipykernel_9480\\1534749086.py:2: FutureWarning: You are using `torch.load` with `weights_only=False` (the current default value), which uses the default pickle module implicitly. It is possible to construct malicious pickle data which will execute arbitrary code during unpickling (See https://github.com/pytorch/pytorch/blob/main/SECURITY.md#untrusted-models for more details). In a future release, the default value for `weights_only` will be flipped to `True`. This limits the functions that could be executed during unpickling. Arbitrary objects will no longer be allowed to be loaded via this mode unless they are explicitly allowlisted by the user via `torch.serialization.add_safe_globals`. We recommend you start setting `weights_only=True` for any use case where you don't have full control of the loaded file. Please open an issue on GitHub for any issues related to this experimental feature.\n",
      "  data = torch.load(f\"ExtractedFeatures/ExtractedFeatures/vit_features_train_{i}.pth\")\n",
      "C:\\Users\\AADI RACIST\\AppData\\Local\\Temp\\ipykernel_9480\\173164225.py:4: FutureWarning: You are using `torch.load` with `weights_only=False` (the current default value), which uses the default pickle module implicitly. It is possible to construct malicious pickle data which will execute arbitrary code during unpickling (See https://github.com/pytorch/pytorch/blob/main/SECURITY.md#untrusted-models for more details). In a future release, the default value for `weights_only` will be flipped to `True`. This limits the functions that could be executed during unpickling. Arbitrary objects will no longer be allowed to be loaded via this mode unless they are explicitly allowlisted by the user via `torch.serialization.add_safe_globals`. We recommend you start setting `weights_only=True` for any use case where you don't have full control of the loaded file. Please open an issue on GitHub for any issues related to this experimental feature.\n",
      "  data = torch.load(f\"ExtractedFeatures/ExtractedFeatures/vit_features_eval_{j}.pth\")\n",
      "C:\\Users\\AADI RACIST\\AppData\\Local\\Temp\\ipykernel_9480\\173164225.py:4: FutureWarning: You are using `torch.load` with `weights_only=False` (the current default value), which uses the default pickle module implicitly. It is possible to construct malicious pickle data which will execute arbitrary code during unpickling (See https://github.com/pytorch/pytorch/blob/main/SECURITY.md#untrusted-models for more details). In a future release, the default value for `weights_only` will be flipped to `True`. This limits the functions that could be executed during unpickling. Arbitrary objects will no longer be allowed to be loaded via this mode unless they are explicitly allowlisted by the user via `torch.serialization.add_safe_globals`. We recommend you start setting `weights_only=True` for any use case where you don't have full control of the loaded file. Please open an issue on GitHub for any issues related to this experimental feature.\n",
      "  data = torch.load(f\"ExtractedFeatures/ExtractedFeatures/vit_features_eval_{j}.pth\")\n",
      "C:\\Users\\AADI RACIST\\AppData\\Local\\Temp\\ipykernel_9480\\173164225.py:4: FutureWarning: You are using `torch.load` with `weights_only=False` (the current default value), which uses the default pickle module implicitly. It is possible to construct malicious pickle data which will execute arbitrary code during unpickling (See https://github.com/pytorch/pytorch/blob/main/SECURITY.md#untrusted-models for more details). In a future release, the default value for `weights_only` will be flipped to `True`. This limits the functions that could be executed during unpickling. Arbitrary objects will no longer be allowed to be loaded via this mode unless they are explicitly allowlisted by the user via `torch.serialization.add_safe_globals`. We recommend you start setting `weights_only=True` for any use case where you don't have full control of the loaded file. Please open an issue on GitHub for any issues related to this experimental feature.\n",
      "  data = torch.load(f\"ExtractedFeatures/ExtractedFeatures/vit_features_eval_{j}.pth\")\n",
      "C:\\Users\\AADI RACIST\\AppData\\Local\\Temp\\ipykernel_9480\\173164225.py:4: FutureWarning: You are using `torch.load` with `weights_only=False` (the current default value), which uses the default pickle module implicitly. It is possible to construct malicious pickle data which will execute arbitrary code during unpickling (See https://github.com/pytorch/pytorch/blob/main/SECURITY.md#untrusted-models for more details). In a future release, the default value for `weights_only` will be flipped to `True`. This limits the functions that could be executed during unpickling. Arbitrary objects will no longer be allowed to be loaded via this mode unless they are explicitly allowlisted by the user via `torch.serialization.add_safe_globals`. We recommend you start setting `weights_only=True` for any use case where you don't have full control of the loaded file. Please open an issue on GitHub for any issues related to this experimental feature.\n",
      "  data = torch.load(f\"ExtractedFeatures/ExtractedFeatures/vit_features_eval_{j}.pth\")\n",
      "C:\\Users\\AADI RACIST\\AppData\\Local\\Temp\\ipykernel_9480\\173164225.py:4: FutureWarning: You are using `torch.load` with `weights_only=False` (the current default value), which uses the default pickle module implicitly. It is possible to construct malicious pickle data which will execute arbitrary code during unpickling (See https://github.com/pytorch/pytorch/blob/main/SECURITY.md#untrusted-models for more details). In a future release, the default value for `weights_only` will be flipped to `True`. This limits the functions that could be executed during unpickling. Arbitrary objects will no longer be allowed to be loaded via this mode unless they are explicitly allowlisted by the user via `torch.serialization.add_safe_globals`. We recommend you start setting `weights_only=True` for any use case where you don't have full control of the loaded file. Please open an issue on GitHub for any issues related to this experimental feature.\n",
      "  data = torch.load(f\"ExtractedFeatures/ExtractedFeatures/vit_features_eval_{j}.pth\")\n",
      "C:\\Users\\AADI RACIST\\AppData\\Local\\Temp\\ipykernel_9480\\173164225.py:4: FutureWarning: You are using `torch.load` with `weights_only=False` (the current default value), which uses the default pickle module implicitly. It is possible to construct malicious pickle data which will execute arbitrary code during unpickling (See https://github.com/pytorch/pytorch/blob/main/SECURITY.md#untrusted-models for more details). In a future release, the default value for `weights_only` will be flipped to `True`. This limits the functions that could be executed during unpickling. Arbitrary objects will no longer be allowed to be loaded via this mode unless they are explicitly allowlisted by the user via `torch.serialization.add_safe_globals`. We recommend you start setting `weights_only=True` for any use case where you don't have full control of the loaded file. Please open an issue on GitHub for any issues related to this experimental feature.\n",
      "  data = torch.load(f\"ExtractedFeatures/ExtractedFeatures/vit_features_eval_{j}.pth\")\n",
      "C:\\Users\\AADI RACIST\\AppData\\Local\\Temp\\ipykernel_9480\\1534749086.py:2: FutureWarning: You are using `torch.load` with `weights_only=False` (the current default value), which uses the default pickle module implicitly. It is possible to construct malicious pickle data which will execute arbitrary code during unpickling (See https://github.com/pytorch/pytorch/blob/main/SECURITY.md#untrusted-models for more details). In a future release, the default value for `weights_only` will be flipped to `True`. This limits the functions that could be executed during unpickling. Arbitrary objects will no longer be allowed to be loaded via this mode unless they are explicitly allowlisted by the user via `torch.serialization.add_safe_globals`. We recommend you start setting `weights_only=True` for any use case where you don't have full control of the loaded file. Please open an issue on GitHub for any issues related to this experimental feature.\n",
      "  data = torch.load(f\"ExtractedFeatures/ExtractedFeatures/vit_features_train_{i}.pth\")\n",
      "C:\\Users\\AADI RACIST\\AppData\\Local\\Temp\\ipykernel_9480\\173164225.py:4: FutureWarning: You are using `torch.load` with `weights_only=False` (the current default value), which uses the default pickle module implicitly. It is possible to construct malicious pickle data which will execute arbitrary code during unpickling (See https://github.com/pytorch/pytorch/blob/main/SECURITY.md#untrusted-models for more details). In a future release, the default value for `weights_only` will be flipped to `True`. This limits the functions that could be executed during unpickling. Arbitrary objects will no longer be allowed to be loaded via this mode unless they are explicitly allowlisted by the user via `torch.serialization.add_safe_globals`. We recommend you start setting `weights_only=True` for any use case where you don't have full control of the loaded file. Please open an issue on GitHub for any issues related to this experimental feature.\n",
      "  data = torch.load(f\"ExtractedFeatures/ExtractedFeatures/vit_features_eval_{j}.pth\")\n",
      "C:\\Users\\AADI RACIST\\AppData\\Local\\Temp\\ipykernel_9480\\173164225.py:4: FutureWarning: You are using `torch.load` with `weights_only=False` (the current default value), which uses the default pickle module implicitly. It is possible to construct malicious pickle data which will execute arbitrary code during unpickling (See https://github.com/pytorch/pytorch/blob/main/SECURITY.md#untrusted-models for more details). In a future release, the default value for `weights_only` will be flipped to `True`. This limits the functions that could be executed during unpickling. Arbitrary objects will no longer be allowed to be loaded via this mode unless they are explicitly allowlisted by the user via `torch.serialization.add_safe_globals`. We recommend you start setting `weights_only=True` for any use case where you don't have full control of the loaded file. Please open an issue on GitHub for any issues related to this experimental feature.\n",
      "  data = torch.load(f\"ExtractedFeatures/ExtractedFeatures/vit_features_eval_{j}.pth\")\n",
      "C:\\Users\\AADI RACIST\\AppData\\Local\\Temp\\ipykernel_9480\\173164225.py:4: FutureWarning: You are using `torch.load` with `weights_only=False` (the current default value), which uses the default pickle module implicitly. It is possible to construct malicious pickle data which will execute arbitrary code during unpickling (See https://github.com/pytorch/pytorch/blob/main/SECURITY.md#untrusted-models for more details). In a future release, the default value for `weights_only` will be flipped to `True`. This limits the functions that could be executed during unpickling. Arbitrary objects will no longer be allowed to be loaded via this mode unless they are explicitly allowlisted by the user via `torch.serialization.add_safe_globals`. We recommend you start setting `weights_only=True` for any use case where you don't have full control of the loaded file. Please open an issue on GitHub for any issues related to this experimental feature.\n",
      "  data = torch.load(f\"ExtractedFeatures/ExtractedFeatures/vit_features_eval_{j}.pth\")\n",
      "C:\\Users\\AADI RACIST\\AppData\\Local\\Temp\\ipykernel_9480\\173164225.py:4: FutureWarning: You are using `torch.load` with `weights_only=False` (the current default value), which uses the default pickle module implicitly. It is possible to construct malicious pickle data which will execute arbitrary code during unpickling (See https://github.com/pytorch/pytorch/blob/main/SECURITY.md#untrusted-models for more details). In a future release, the default value for `weights_only` will be flipped to `True`. This limits the functions that could be executed during unpickling. Arbitrary objects will no longer be allowed to be loaded via this mode unless they are explicitly allowlisted by the user via `torch.serialization.add_safe_globals`. We recommend you start setting `weights_only=True` for any use case where you don't have full control of the loaded file. Please open an issue on GitHub for any issues related to this experimental feature.\n",
      "  data = torch.load(f\"ExtractedFeatures/ExtractedFeatures/vit_features_eval_{j}.pth\")\n",
      "C:\\Users\\AADI RACIST\\AppData\\Local\\Temp\\ipykernel_9480\\173164225.py:4: FutureWarning: You are using `torch.load` with `weights_only=False` (the current default value), which uses the default pickle module implicitly. It is possible to construct malicious pickle data which will execute arbitrary code during unpickling (See https://github.com/pytorch/pytorch/blob/main/SECURITY.md#untrusted-models for more details). In a future release, the default value for `weights_only` will be flipped to `True`. This limits the functions that could be executed during unpickling. Arbitrary objects will no longer be allowed to be loaded via this mode unless they are explicitly allowlisted by the user via `torch.serialization.add_safe_globals`. We recommend you start setting `weights_only=True` for any use case where you don't have full control of the loaded file. Please open an issue on GitHub for any issues related to this experimental feature.\n",
      "  data = torch.load(f\"ExtractedFeatures/ExtractedFeatures/vit_features_eval_{j}.pth\")\n",
      "C:\\Users\\AADI RACIST\\AppData\\Local\\Temp\\ipykernel_9480\\173164225.py:4: FutureWarning: You are using `torch.load` with `weights_only=False` (the current default value), which uses the default pickle module implicitly. It is possible to construct malicious pickle data which will execute arbitrary code during unpickling (See https://github.com/pytorch/pytorch/blob/main/SECURITY.md#untrusted-models for more details). In a future release, the default value for `weights_only` will be flipped to `True`. This limits the functions that could be executed during unpickling. Arbitrary objects will no longer be allowed to be loaded via this mode unless they are explicitly allowlisted by the user via `torch.serialization.add_safe_globals`. We recommend you start setting `weights_only=True` for any use case where you don't have full control of the loaded file. Please open an issue on GitHub for any issues related to this experimental feature.\n",
      "  data = torch.load(f\"ExtractedFeatures/ExtractedFeatures/vit_features_eval_{j}.pth\")\n",
      "C:\\Users\\AADI RACIST\\AppData\\Local\\Temp\\ipykernel_9480\\173164225.py:4: FutureWarning: You are using `torch.load` with `weights_only=False` (the current default value), which uses the default pickle module implicitly. It is possible to construct malicious pickle data which will execute arbitrary code during unpickling (See https://github.com/pytorch/pytorch/blob/main/SECURITY.md#untrusted-models for more details). In a future release, the default value for `weights_only` will be flipped to `True`. This limits the functions that could be executed during unpickling. Arbitrary objects will no longer be allowed to be loaded via this mode unless they are explicitly allowlisted by the user via `torch.serialization.add_safe_globals`. We recommend you start setting `weights_only=True` for any use case where you don't have full control of the loaded file. Please open an issue on GitHub for any issues related to this experimental feature.\n",
      "  data = torch.load(f\"ExtractedFeatures/ExtractedFeatures/vit_features_eval_{j}.pth\")\n",
      "C:\\Users\\AADI RACIST\\AppData\\Local\\Temp\\ipykernel_9480\\1534749086.py:2: FutureWarning: You are using `torch.load` with `weights_only=False` (the current default value), which uses the default pickle module implicitly. It is possible to construct malicious pickle data which will execute arbitrary code during unpickling (See https://github.com/pytorch/pytorch/blob/main/SECURITY.md#untrusted-models for more details). In a future release, the default value for `weights_only` will be flipped to `True`. This limits the functions that could be executed during unpickling. Arbitrary objects will no longer be allowed to be loaded via this mode unless they are explicitly allowlisted by the user via `torch.serialization.add_safe_globals`. We recommend you start setting `weights_only=True` for any use case where you don't have full control of the loaded file. Please open an issue on GitHub for any issues related to this experimental feature.\n",
      "  data = torch.load(f\"ExtractedFeatures/ExtractedFeatures/vit_features_train_{i}.pth\")\n",
      "C:\\Users\\AADI RACIST\\AppData\\Local\\Temp\\ipykernel_9480\\173164225.py:4: FutureWarning: You are using `torch.load` with `weights_only=False` (the current default value), which uses the default pickle module implicitly. It is possible to construct malicious pickle data which will execute arbitrary code during unpickling (See https://github.com/pytorch/pytorch/blob/main/SECURITY.md#untrusted-models for more details). In a future release, the default value for `weights_only` will be flipped to `True`. This limits the functions that could be executed during unpickling. Arbitrary objects will no longer be allowed to be loaded via this mode unless they are explicitly allowlisted by the user via `torch.serialization.add_safe_globals`. We recommend you start setting `weights_only=True` for any use case where you don't have full control of the loaded file. Please open an issue on GitHub for any issues related to this experimental feature.\n",
      "  data = torch.load(f\"ExtractedFeatures/ExtractedFeatures/vit_features_eval_{j}.pth\")\n",
      "C:\\Users\\AADI RACIST\\AppData\\Local\\Temp\\ipykernel_9480\\173164225.py:4: FutureWarning: You are using `torch.load` with `weights_only=False` (the current default value), which uses the default pickle module implicitly. It is possible to construct malicious pickle data which will execute arbitrary code during unpickling (See https://github.com/pytorch/pytorch/blob/main/SECURITY.md#untrusted-models for more details). In a future release, the default value for `weights_only` will be flipped to `True`. This limits the functions that could be executed during unpickling. Arbitrary objects will no longer be allowed to be loaded via this mode unless they are explicitly allowlisted by the user via `torch.serialization.add_safe_globals`. We recommend you start setting `weights_only=True` for any use case where you don't have full control of the loaded file. Please open an issue on GitHub for any issues related to this experimental feature.\n",
      "  data = torch.load(f\"ExtractedFeatures/ExtractedFeatures/vit_features_eval_{j}.pth\")\n",
      "C:\\Users\\AADI RACIST\\AppData\\Local\\Temp\\ipykernel_9480\\173164225.py:4: FutureWarning: You are using `torch.load` with `weights_only=False` (the current default value), which uses the default pickle module implicitly. It is possible to construct malicious pickle data which will execute arbitrary code during unpickling (See https://github.com/pytorch/pytorch/blob/main/SECURITY.md#untrusted-models for more details). In a future release, the default value for `weights_only` will be flipped to `True`. This limits the functions that could be executed during unpickling. Arbitrary objects will no longer be allowed to be loaded via this mode unless they are explicitly allowlisted by the user via `torch.serialization.add_safe_globals`. We recommend you start setting `weights_only=True` for any use case where you don't have full control of the loaded file. Please open an issue on GitHub for any issues related to this experimental feature.\n",
      "  data = torch.load(f\"ExtractedFeatures/ExtractedFeatures/vit_features_eval_{j}.pth\")\n",
      "C:\\Users\\AADI RACIST\\AppData\\Local\\Temp\\ipykernel_9480\\173164225.py:4: FutureWarning: You are using `torch.load` with `weights_only=False` (the current default value), which uses the default pickle module implicitly. It is possible to construct malicious pickle data which will execute arbitrary code during unpickling (See https://github.com/pytorch/pytorch/blob/main/SECURITY.md#untrusted-models for more details). In a future release, the default value for `weights_only` will be flipped to `True`. This limits the functions that could be executed during unpickling. Arbitrary objects will no longer be allowed to be loaded via this mode unless they are explicitly allowlisted by the user via `torch.serialization.add_safe_globals`. We recommend you start setting `weights_only=True` for any use case where you don't have full control of the loaded file. Please open an issue on GitHub for any issues related to this experimental feature.\n",
      "  data = torch.load(f\"ExtractedFeatures/ExtractedFeatures/vit_features_eval_{j}.pth\")\n",
      "C:\\Users\\AADI RACIST\\AppData\\Local\\Temp\\ipykernel_9480\\173164225.py:4: FutureWarning: You are using `torch.load` with `weights_only=False` (the current default value), which uses the default pickle module implicitly. It is possible to construct malicious pickle data which will execute arbitrary code during unpickling (See https://github.com/pytorch/pytorch/blob/main/SECURITY.md#untrusted-models for more details). In a future release, the default value for `weights_only` will be flipped to `True`. This limits the functions that could be executed during unpickling. Arbitrary objects will no longer be allowed to be loaded via this mode unless they are explicitly allowlisted by the user via `torch.serialization.add_safe_globals`. We recommend you start setting `weights_only=True` for any use case where you don't have full control of the loaded file. Please open an issue on GitHub for any issues related to this experimental feature.\n",
      "  data = torch.load(f\"ExtractedFeatures/ExtractedFeatures/vit_features_eval_{j}.pth\")\n",
      "C:\\Users\\AADI RACIST\\AppData\\Local\\Temp\\ipykernel_9480\\173164225.py:4: FutureWarning: You are using `torch.load` with `weights_only=False` (the current default value), which uses the default pickle module implicitly. It is possible to construct malicious pickle data which will execute arbitrary code during unpickling (See https://github.com/pytorch/pytorch/blob/main/SECURITY.md#untrusted-models for more details). In a future release, the default value for `weights_only` will be flipped to `True`. This limits the functions that could be executed during unpickling. Arbitrary objects will no longer be allowed to be loaded via this mode unless they are explicitly allowlisted by the user via `torch.serialization.add_safe_globals`. We recommend you start setting `weights_only=True` for any use case where you don't have full control of the loaded file. Please open an issue on GitHub for any issues related to this experimental feature.\n",
      "  data = torch.load(f\"ExtractedFeatures/ExtractedFeatures/vit_features_eval_{j}.pth\")\n",
      "C:\\Users\\AADI RACIST\\AppData\\Local\\Temp\\ipykernel_9480\\173164225.py:4: FutureWarning: You are using `torch.load` with `weights_only=False` (the current default value), which uses the default pickle module implicitly. It is possible to construct malicious pickle data which will execute arbitrary code during unpickling (See https://github.com/pytorch/pytorch/blob/main/SECURITY.md#untrusted-models for more details). In a future release, the default value for `weights_only` will be flipped to `True`. This limits the functions that could be executed during unpickling. Arbitrary objects will no longer be allowed to be loaded via this mode unless they are explicitly allowlisted by the user via `torch.serialization.add_safe_globals`. We recommend you start setting `weights_only=True` for any use case where you don't have full control of the loaded file. Please open an issue on GitHub for any issues related to this experimental feature.\n",
      "  data = torch.load(f\"ExtractedFeatures/ExtractedFeatures/vit_features_eval_{j}.pth\")\n",
      "C:\\Users\\AADI RACIST\\AppData\\Local\\Temp\\ipykernel_9480\\173164225.py:4: FutureWarning: You are using `torch.load` with `weights_only=False` (the current default value), which uses the default pickle module implicitly. It is possible to construct malicious pickle data which will execute arbitrary code during unpickling (See https://github.com/pytorch/pytorch/blob/main/SECURITY.md#untrusted-models for more details). In a future release, the default value for `weights_only` will be flipped to `True`. This limits the functions that could be executed during unpickling. Arbitrary objects will no longer be allowed to be loaded via this mode unless they are explicitly allowlisted by the user via `torch.serialization.add_safe_globals`. We recommend you start setting `weights_only=True` for any use case where you don't have full control of the loaded file. Please open an issue on GitHub for any issues related to this experimental feature.\n",
      "  data = torch.load(f\"ExtractedFeatures/ExtractedFeatures/vit_features_eval_{j}.pth\")\n",
      "C:\\Users\\AADI RACIST\\AppData\\Local\\Temp\\ipykernel_9480\\1534749086.py:2: FutureWarning: You are using `torch.load` with `weights_only=False` (the current default value), which uses the default pickle module implicitly. It is possible to construct malicious pickle data which will execute arbitrary code during unpickling (See https://github.com/pytorch/pytorch/blob/main/SECURITY.md#untrusted-models for more details). In a future release, the default value for `weights_only` will be flipped to `True`. This limits the functions that could be executed during unpickling. Arbitrary objects will no longer be allowed to be loaded via this mode unless they are explicitly allowlisted by the user via `torch.serialization.add_safe_globals`. We recommend you start setting `weights_only=True` for any use case where you don't have full control of the loaded file. Please open an issue on GitHub for any issues related to this experimental feature.\n",
      "  data = torch.load(f\"ExtractedFeatures/ExtractedFeatures/vit_features_train_{i}.pth\")\n",
      "C:\\Users\\AADI RACIST\\AppData\\Local\\Temp\\ipykernel_9480\\173164225.py:4: FutureWarning: You are using `torch.load` with `weights_only=False` (the current default value), which uses the default pickle module implicitly. It is possible to construct malicious pickle data which will execute arbitrary code during unpickling (See https://github.com/pytorch/pytorch/blob/main/SECURITY.md#untrusted-models for more details). In a future release, the default value for `weights_only` will be flipped to `True`. This limits the functions that could be executed during unpickling. Arbitrary objects will no longer be allowed to be loaded via this mode unless they are explicitly allowlisted by the user via `torch.serialization.add_safe_globals`. We recommend you start setting `weights_only=True` for any use case where you don't have full control of the loaded file. Please open an issue on GitHub for any issues related to this experimental feature.\n",
      "  data = torch.load(f\"ExtractedFeatures/ExtractedFeatures/vit_features_eval_{j}.pth\")\n",
      "C:\\Users\\AADI RACIST\\AppData\\Local\\Temp\\ipykernel_9480\\173164225.py:4: FutureWarning: You are using `torch.load` with `weights_only=False` (the current default value), which uses the default pickle module implicitly. It is possible to construct malicious pickle data which will execute arbitrary code during unpickling (See https://github.com/pytorch/pytorch/blob/main/SECURITY.md#untrusted-models for more details). In a future release, the default value for `weights_only` will be flipped to `True`. This limits the functions that could be executed during unpickling. Arbitrary objects will no longer be allowed to be loaded via this mode unless they are explicitly allowlisted by the user via `torch.serialization.add_safe_globals`. We recommend you start setting `weights_only=True` for any use case where you don't have full control of the loaded file. Please open an issue on GitHub for any issues related to this experimental feature.\n",
      "  data = torch.load(f\"ExtractedFeatures/ExtractedFeatures/vit_features_eval_{j}.pth\")\n",
      "C:\\Users\\AADI RACIST\\AppData\\Local\\Temp\\ipykernel_9480\\173164225.py:4: FutureWarning: You are using `torch.load` with `weights_only=False` (the current default value), which uses the default pickle module implicitly. It is possible to construct malicious pickle data which will execute arbitrary code during unpickling (See https://github.com/pytorch/pytorch/blob/main/SECURITY.md#untrusted-models for more details). In a future release, the default value for `weights_only` will be flipped to `True`. This limits the functions that could be executed during unpickling. Arbitrary objects will no longer be allowed to be loaded via this mode unless they are explicitly allowlisted by the user via `torch.serialization.add_safe_globals`. We recommend you start setting `weights_only=True` for any use case where you don't have full control of the loaded file. Please open an issue on GitHub for any issues related to this experimental feature.\n",
      "  data = torch.load(f\"ExtractedFeatures/ExtractedFeatures/vit_features_eval_{j}.pth\")\n",
      "C:\\Users\\AADI RACIST\\AppData\\Local\\Temp\\ipykernel_9480\\173164225.py:4: FutureWarning: You are using `torch.load` with `weights_only=False` (the current default value), which uses the default pickle module implicitly. It is possible to construct malicious pickle data which will execute arbitrary code during unpickling (See https://github.com/pytorch/pytorch/blob/main/SECURITY.md#untrusted-models for more details). In a future release, the default value for `weights_only` will be flipped to `True`. This limits the functions that could be executed during unpickling. Arbitrary objects will no longer be allowed to be loaded via this mode unless they are explicitly allowlisted by the user via `torch.serialization.add_safe_globals`. We recommend you start setting `weights_only=True` for any use case where you don't have full control of the loaded file. Please open an issue on GitHub for any issues related to this experimental feature.\n",
      "  data = torch.load(f\"ExtractedFeatures/ExtractedFeatures/vit_features_eval_{j}.pth\")\n",
      "C:\\Users\\AADI RACIST\\AppData\\Local\\Temp\\ipykernel_9480\\173164225.py:4: FutureWarning: You are using `torch.load` with `weights_only=False` (the current default value), which uses the default pickle module implicitly. It is possible to construct malicious pickle data which will execute arbitrary code during unpickling (See https://github.com/pytorch/pytorch/blob/main/SECURITY.md#untrusted-models for more details). In a future release, the default value for `weights_only` will be flipped to `True`. This limits the functions that could be executed during unpickling. Arbitrary objects will no longer be allowed to be loaded via this mode unless they are explicitly allowlisted by the user via `torch.serialization.add_safe_globals`. We recommend you start setting `weights_only=True` for any use case where you don't have full control of the loaded file. Please open an issue on GitHub for any issues related to this experimental feature.\n",
      "  data = torch.load(f\"ExtractedFeatures/ExtractedFeatures/vit_features_eval_{j}.pth\")\n",
      "C:\\Users\\AADI RACIST\\AppData\\Local\\Temp\\ipykernel_9480\\173164225.py:4: FutureWarning: You are using `torch.load` with `weights_only=False` (the current default value), which uses the default pickle module implicitly. It is possible to construct malicious pickle data which will execute arbitrary code during unpickling (See https://github.com/pytorch/pytorch/blob/main/SECURITY.md#untrusted-models for more details). In a future release, the default value for `weights_only` will be flipped to `True`. This limits the functions that could be executed during unpickling. Arbitrary objects will no longer be allowed to be loaded via this mode unless they are explicitly allowlisted by the user via `torch.serialization.add_safe_globals`. We recommend you start setting `weights_only=True` for any use case where you don't have full control of the loaded file. Please open an issue on GitHub for any issues related to this experimental feature.\n",
      "  data = torch.load(f\"ExtractedFeatures/ExtractedFeatures/vit_features_eval_{j}.pth\")\n",
      "C:\\Users\\AADI RACIST\\AppData\\Local\\Temp\\ipykernel_9480\\173164225.py:4: FutureWarning: You are using `torch.load` with `weights_only=False` (the current default value), which uses the default pickle module implicitly. It is possible to construct malicious pickle data which will execute arbitrary code during unpickling (See https://github.com/pytorch/pytorch/blob/main/SECURITY.md#untrusted-models for more details). In a future release, the default value for `weights_only` will be flipped to `True`. This limits the functions that could be executed during unpickling. Arbitrary objects will no longer be allowed to be loaded via this mode unless they are explicitly allowlisted by the user via `torch.serialization.add_safe_globals`. We recommend you start setting `weights_only=True` for any use case where you don't have full control of the loaded file. Please open an issue on GitHub for any issues related to this experimental feature.\n",
      "  data = torch.load(f\"ExtractedFeatures/ExtractedFeatures/vit_features_eval_{j}.pth\")\n",
      "C:\\Users\\AADI RACIST\\AppData\\Local\\Temp\\ipykernel_9480\\173164225.py:4: FutureWarning: You are using `torch.load` with `weights_only=False` (the current default value), which uses the default pickle module implicitly. It is possible to construct malicious pickle data which will execute arbitrary code during unpickling (See https://github.com/pytorch/pytorch/blob/main/SECURITY.md#untrusted-models for more details). In a future release, the default value for `weights_only` will be flipped to `True`. This limits the functions that could be executed during unpickling. Arbitrary objects will no longer be allowed to be loaded via this mode unless they are explicitly allowlisted by the user via `torch.serialization.add_safe_globals`. We recommend you start setting `weights_only=True` for any use case where you don't have full control of the loaded file. Please open an issue on GitHub for any issues related to this experimental feature.\n",
      "  data = torch.load(f\"ExtractedFeatures/ExtractedFeatures/vit_features_eval_{j}.pth\")\n",
      "C:\\Users\\AADI RACIST\\AppData\\Local\\Temp\\ipykernel_9480\\173164225.py:4: FutureWarning: You are using `torch.load` with `weights_only=False` (the current default value), which uses the default pickle module implicitly. It is possible to construct malicious pickle data which will execute arbitrary code during unpickling (See https://github.com/pytorch/pytorch/blob/main/SECURITY.md#untrusted-models for more details). In a future release, the default value for `weights_only` will be flipped to `True`. This limits the functions that could be executed during unpickling. Arbitrary objects will no longer be allowed to be loaded via this mode unless they are explicitly allowlisted by the user via `torch.serialization.add_safe_globals`. We recommend you start setting `weights_only=True` for any use case where you don't have full control of the loaded file. Please open an issue on GitHub for any issues related to this experimental feature.\n",
      "  data = torch.load(f\"ExtractedFeatures/ExtractedFeatures/vit_features_eval_{j}.pth\")\n",
      "C:\\Users\\AADI RACIST\\AppData\\Local\\Temp\\ipykernel_9480\\1534749086.py:2: FutureWarning: You are using `torch.load` with `weights_only=False` (the current default value), which uses the default pickle module implicitly. It is possible to construct malicious pickle data which will execute arbitrary code during unpickling (See https://github.com/pytorch/pytorch/blob/main/SECURITY.md#untrusted-models for more details). In a future release, the default value for `weights_only` will be flipped to `True`. This limits the functions that could be executed during unpickling. Arbitrary objects will no longer be allowed to be loaded via this mode unless they are explicitly allowlisted by the user via `torch.serialization.add_safe_globals`. We recommend you start setting `weights_only=True` for any use case where you don't have full control of the loaded file. Please open an issue on GitHub for any issues related to this experimental feature.\n",
      "  data = torch.load(f\"ExtractedFeatures/ExtractedFeatures/vit_features_train_{i}.pth\")\n",
      "C:\\Users\\AADI RACIST\\AppData\\Local\\Temp\\ipykernel_9480\\173164225.py:4: FutureWarning: You are using `torch.load` with `weights_only=False` (the current default value), which uses the default pickle module implicitly. It is possible to construct malicious pickle data which will execute arbitrary code during unpickling (See https://github.com/pytorch/pytorch/blob/main/SECURITY.md#untrusted-models for more details). In a future release, the default value for `weights_only` will be flipped to `True`. This limits the functions that could be executed during unpickling. Arbitrary objects will no longer be allowed to be loaded via this mode unless they are explicitly allowlisted by the user via `torch.serialization.add_safe_globals`. We recommend you start setting `weights_only=True` for any use case where you don't have full control of the loaded file. Please open an issue on GitHub for any issues related to this experimental feature.\n",
      "  data = torch.load(f\"ExtractedFeatures/ExtractedFeatures/vit_features_eval_{j}.pth\")\n",
      "C:\\Users\\AADI RACIST\\AppData\\Local\\Temp\\ipykernel_9480\\173164225.py:4: FutureWarning: You are using `torch.load` with `weights_only=False` (the current default value), which uses the default pickle module implicitly. It is possible to construct malicious pickle data which will execute arbitrary code during unpickling (See https://github.com/pytorch/pytorch/blob/main/SECURITY.md#untrusted-models for more details). In a future release, the default value for `weights_only` will be flipped to `True`. This limits the functions that could be executed during unpickling. Arbitrary objects will no longer be allowed to be loaded via this mode unless they are explicitly allowlisted by the user via `torch.serialization.add_safe_globals`. We recommend you start setting `weights_only=True` for any use case where you don't have full control of the loaded file. Please open an issue on GitHub for any issues related to this experimental feature.\n",
      "  data = torch.load(f\"ExtractedFeatures/ExtractedFeatures/vit_features_eval_{j}.pth\")\n",
      "C:\\Users\\AADI RACIST\\AppData\\Local\\Temp\\ipykernel_9480\\173164225.py:4: FutureWarning: You are using `torch.load` with `weights_only=False` (the current default value), which uses the default pickle module implicitly. It is possible to construct malicious pickle data which will execute arbitrary code during unpickling (See https://github.com/pytorch/pytorch/blob/main/SECURITY.md#untrusted-models for more details). In a future release, the default value for `weights_only` will be flipped to `True`. This limits the functions that could be executed during unpickling. Arbitrary objects will no longer be allowed to be loaded via this mode unless they are explicitly allowlisted by the user via `torch.serialization.add_safe_globals`. We recommend you start setting `weights_only=True` for any use case where you don't have full control of the loaded file. Please open an issue on GitHub for any issues related to this experimental feature.\n",
      "  data = torch.load(f\"ExtractedFeatures/ExtractedFeatures/vit_features_eval_{j}.pth\")\n",
      "C:\\Users\\AADI RACIST\\AppData\\Local\\Temp\\ipykernel_9480\\173164225.py:4: FutureWarning: You are using `torch.load` with `weights_only=False` (the current default value), which uses the default pickle module implicitly. It is possible to construct malicious pickle data which will execute arbitrary code during unpickling (See https://github.com/pytorch/pytorch/blob/main/SECURITY.md#untrusted-models for more details). In a future release, the default value for `weights_only` will be flipped to `True`. This limits the functions that could be executed during unpickling. Arbitrary objects will no longer be allowed to be loaded via this mode unless they are explicitly allowlisted by the user via `torch.serialization.add_safe_globals`. We recommend you start setting `weights_only=True` for any use case where you don't have full control of the loaded file. Please open an issue on GitHub for any issues related to this experimental feature.\n",
      "  data = torch.load(f\"ExtractedFeatures/ExtractedFeatures/vit_features_eval_{j}.pth\")\n",
      "C:\\Users\\AADI RACIST\\AppData\\Local\\Temp\\ipykernel_9480\\173164225.py:4: FutureWarning: You are using `torch.load` with `weights_only=False` (the current default value), which uses the default pickle module implicitly. It is possible to construct malicious pickle data which will execute arbitrary code during unpickling (See https://github.com/pytorch/pytorch/blob/main/SECURITY.md#untrusted-models for more details). In a future release, the default value for `weights_only` will be flipped to `True`. This limits the functions that could be executed during unpickling. Arbitrary objects will no longer be allowed to be loaded via this mode unless they are explicitly allowlisted by the user via `torch.serialization.add_safe_globals`. We recommend you start setting `weights_only=True` for any use case where you don't have full control of the loaded file. Please open an issue on GitHub for any issues related to this experimental feature.\n",
      "  data = torch.load(f\"ExtractedFeatures/ExtractedFeatures/vit_features_eval_{j}.pth\")\n",
      "C:\\Users\\AADI RACIST\\AppData\\Local\\Temp\\ipykernel_9480\\173164225.py:4: FutureWarning: You are using `torch.load` with `weights_only=False` (the current default value), which uses the default pickle module implicitly. It is possible to construct malicious pickle data which will execute arbitrary code during unpickling (See https://github.com/pytorch/pytorch/blob/main/SECURITY.md#untrusted-models for more details). In a future release, the default value for `weights_only` will be flipped to `True`. This limits the functions that could be executed during unpickling. Arbitrary objects will no longer be allowed to be loaded via this mode unless they are explicitly allowlisted by the user via `torch.serialization.add_safe_globals`. We recommend you start setting `weights_only=True` for any use case where you don't have full control of the loaded file. Please open an issue on GitHub for any issues related to this experimental feature.\n",
      "  data = torch.load(f\"ExtractedFeatures/ExtractedFeatures/vit_features_eval_{j}.pth\")\n",
      "C:\\Users\\AADI RACIST\\AppData\\Local\\Temp\\ipykernel_9480\\173164225.py:4: FutureWarning: You are using `torch.load` with `weights_only=False` (the current default value), which uses the default pickle module implicitly. It is possible to construct malicious pickle data which will execute arbitrary code during unpickling (See https://github.com/pytorch/pytorch/blob/main/SECURITY.md#untrusted-models for more details). In a future release, the default value for `weights_only` will be flipped to `True`. This limits the functions that could be executed during unpickling. Arbitrary objects will no longer be allowed to be loaded via this mode unless they are explicitly allowlisted by the user via `torch.serialization.add_safe_globals`. We recommend you start setting `weights_only=True` for any use case where you don't have full control of the loaded file. Please open an issue on GitHub for any issues related to this experimental feature.\n",
      "  data = torch.load(f\"ExtractedFeatures/ExtractedFeatures/vit_features_eval_{j}.pth\")\n",
      "C:\\Users\\AADI RACIST\\AppData\\Local\\Temp\\ipykernel_9480\\173164225.py:4: FutureWarning: You are using `torch.load` with `weights_only=False` (the current default value), which uses the default pickle module implicitly. It is possible to construct malicious pickle data which will execute arbitrary code during unpickling (See https://github.com/pytorch/pytorch/blob/main/SECURITY.md#untrusted-models for more details). In a future release, the default value for `weights_only` will be flipped to `True`. This limits the functions that could be executed during unpickling. Arbitrary objects will no longer be allowed to be loaded via this mode unless they are explicitly allowlisted by the user via `torch.serialization.add_safe_globals`. We recommend you start setting `weights_only=True` for any use case where you don't have full control of the loaded file. Please open an issue on GitHub for any issues related to this experimental feature.\n",
      "  data = torch.load(f\"ExtractedFeatures/ExtractedFeatures/vit_features_eval_{j}.pth\")\n",
      "C:\\Users\\AADI RACIST\\AppData\\Local\\Temp\\ipykernel_9480\\173164225.py:4: FutureWarning: You are using `torch.load` with `weights_only=False` (the current default value), which uses the default pickle module implicitly. It is possible to construct malicious pickle data which will execute arbitrary code during unpickling (See https://github.com/pytorch/pytorch/blob/main/SECURITY.md#untrusted-models for more details). In a future release, the default value for `weights_only` will be flipped to `True`. This limits the functions that could be executed during unpickling. Arbitrary objects will no longer be allowed to be loaded via this mode unless they are explicitly allowlisted by the user via `torch.serialization.add_safe_globals`. We recommend you start setting `weights_only=True` for any use case where you don't have full control of the loaded file. Please open an issue on GitHub for any issues related to this experimental feature.\n",
      "  data = torch.load(f\"ExtractedFeatures/ExtractedFeatures/vit_features_eval_{j}.pth\")\n",
      "C:\\Users\\AADI RACIST\\AppData\\Local\\Temp\\ipykernel_9480\\173164225.py:4: FutureWarning: You are using `torch.load` with `weights_only=False` (the current default value), which uses the default pickle module implicitly. It is possible to construct malicious pickle data which will execute arbitrary code during unpickling (See https://github.com/pytorch/pytorch/blob/main/SECURITY.md#untrusted-models for more details). In a future release, the default value for `weights_only` will be flipped to `True`. This limits the functions that could be executed during unpickling. Arbitrary objects will no longer be allowed to be loaded via this mode unless they are explicitly allowlisted by the user via `torch.serialization.add_safe_globals`. We recommend you start setting `weights_only=True` for any use case where you don't have full control of the loaded file. Please open an issue on GitHub for any issues related to this experimental feature.\n",
      "  data = torch.load(f\"ExtractedFeatures/ExtractedFeatures/vit_features_eval_{j}.pth\")\n"
     ]
    }
   ],
   "source": [
    "for i in range(2,11):\n",
    "    data = torch.load(f\"ExtractedFeatures/vit_features_train_{i}.pth\")\n",
    "    prototypes, sizes = update_prototype(data, prototypes, sizes)\n",
    "\n",
    "    accuracies = holdout_accuracy(i, prototypes)\n",
    "    all_accuracies.append(accuracies)    \n"
   ]
  },
  {
   "cell_type": "code",
   "execution_count": 16,
   "metadata": {},
   "outputs": [],
   "source": [
    "np.save(\"prototypes.npy\", prototypes)\n",
    "np.save(\"sizes.npy\", sizes)"
   ]
  },
  {
   "cell_type": "code",
   "execution_count": 17,
   "metadata": {},
   "outputs": [
    {
     "data": {
      "text/plain": [
       "[[0.8876],\n",
       " [0.8868, 0.8944],\n",
       " [0.8852, 0.8956, 0.9052],\n",
       " [0.8868, 0.8948, 0.9052, 0.9072],\n",
       " [0.8856, 0.8948, 0.906, 0.9064, 0.8996],\n",
       " [0.8856, 0.892, 0.906, 0.9072, 0.8996, 0.8972],\n",
       " [0.8856, 0.8932, 0.9064, 0.906, 0.8992, 0.8976, 0.8944],\n",
       " [0.8856, 0.8924, 0.9064, 0.9072, 0.8996, 0.8964, 0.8948, 0.8936],\n",
       " [0.8852, 0.892, 0.906, 0.9068, 0.8996, 0.8964, 0.8952, 0.8936, 0.898],\n",
       " [0.8856,\n",
       "  0.8924,\n",
       "  0.9052,\n",
       "  0.9072,\n",
       "  0.8992,\n",
       "  0.8968,\n",
       "  0.8952,\n",
       "  0.8928,\n",
       "  0.8976,\n",
       "  0.9008]]"
      ]
     },
     "execution_count": 17,
     "metadata": {},
     "output_type": "execute_result"
    }
   ],
   "source": [
    "all_accuracies"
   ]
  },
  {
   "cell_type": "markdown",
   "metadata": {},
   "source": [
    "Thus we that the loss of accuracies on older datasets are marginal, and some of them even improve, suggesting that confidence based updating allows us to get better ideas of the label means, improving our prototypes."
   ]
  }
 ],
 "metadata": {
  "kernelspec": {
   "display_name": "771_env",
   "language": "python",
   "name": "python3"
  },
  "language_info": {
   "codemirror_mode": {
    "name": "ipython",
    "version": 3
   },
   "file_extension": ".py",
   "mimetype": "text/x-python",
   "name": "python",
   "nbconvert_exporter": "python",
   "pygments_lexer": "ipython3",
   "version": "3.12.7"
  }
 },
 "nbformat": 4,
 "nbformat_minor": 2
}
